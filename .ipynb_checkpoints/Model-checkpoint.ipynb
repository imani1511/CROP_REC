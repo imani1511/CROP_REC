{
 "cells": [
  {
   "cell_type": "code",
   "execution_count": 40,
   "id": "31d343a8",
   "metadata": {},
   "outputs": [
    {
     "name": "stdout",
     "output_type": "stream",
     "text": [
      "Requirement already satisfied: xgboost in c:\\users\\kiit\\anaconda3\\lib\\site-packages (1.7.5)\n",
      "Requirement already satisfied: numpy in c:\\users\\kiit\\anaconda3\\lib\\site-packages (from xgboost) (1.21.5)\n",
      "Requirement already satisfied: scipy in c:\\users\\kiit\\anaconda3\\lib\\site-packages (from xgboost) (1.9.1)\n"
     ]
    }
   ],
   "source": [
    "!pip install xgboost"
   ]
  },
  {
   "cell_type": "code",
   "execution_count": 41,
   "id": "1a91e71d",
   "metadata": {},
   "outputs": [],
   "source": [
    "import pandas as pd\n",
    "import numpy as np\n",
    "import seaborn as sns\n",
    "from sklearn.linear_model import LogisticRegression\n",
    "from sklearn.naive_bayes import GaussianNB\n",
    "from sklearn.svm import SVC\n",
    "from sklearn.neighbors import KNeighborsClassifier\n",
    "from sklearn.tree import DecisionTreeClassifier\n",
    "from sklearn.ensemble import RandomForestClassifier\n",
    "from sklearn.metrics import accuracy_score \n",
    "from sklearn.model_selection import train_test_split\n",
    "import xgboost\n",
    "from xgboost import XGBClassifier"
   ]
  },
  {
   "cell_type": "code",
   "execution_count": 42,
   "id": "9e9fdef7",
   "metadata": {},
   "outputs": [],
   "source": [
    "#reading csv file\n",
    "df= pd.read_csv('crop.csv')"
   ]
  },
  {
   "cell_type": "code",
   "execution_count": 43,
   "id": "d1ac4fe8",
   "metadata": {},
   "outputs": [
    {
     "data": {
      "text/html": [
       "<div>\n",
       "<style scoped>\n",
       "    .dataframe tbody tr th:only-of-type {\n",
       "        vertical-align: middle;\n",
       "    }\n",
       "\n",
       "    .dataframe tbody tr th {\n",
       "        vertical-align: top;\n",
       "    }\n",
       "\n",
       "    .dataframe thead th {\n",
       "        text-align: right;\n",
       "    }\n",
       "</style>\n",
       "<table border=\"1\" class=\"dataframe\">\n",
       "  <thead>\n",
       "    <tr style=\"text-align: right;\">\n",
       "      <th></th>\n",
       "      <th>NITROGEN</th>\n",
       "      <th>PHOSPHORUS</th>\n",
       "      <th>POTASSIUM</th>\n",
       "      <th>TEMPERATURE</th>\n",
       "      <th>HUMIDITY</th>\n",
       "      <th>PH</th>\n",
       "      <th>RAINFALL</th>\n",
       "      <th>CROP</th>\n",
       "    </tr>\n",
       "  </thead>\n",
       "  <tbody>\n",
       "    <tr>\n",
       "      <th>0</th>\n",
       "      <td>90</td>\n",
       "      <td>42</td>\n",
       "      <td>43</td>\n",
       "      <td>21</td>\n",
       "      <td>82</td>\n",
       "      <td>6.5</td>\n",
       "      <td>203</td>\n",
       "      <td>rice</td>\n",
       "    </tr>\n",
       "    <tr>\n",
       "      <th>1</th>\n",
       "      <td>85</td>\n",
       "      <td>58</td>\n",
       "      <td>41</td>\n",
       "      <td>22</td>\n",
       "      <td>80</td>\n",
       "      <td>7.0</td>\n",
       "      <td>227</td>\n",
       "      <td>rice</td>\n",
       "    </tr>\n",
       "    <tr>\n",
       "      <th>2</th>\n",
       "      <td>60</td>\n",
       "      <td>55</td>\n",
       "      <td>44</td>\n",
       "      <td>23</td>\n",
       "      <td>82</td>\n",
       "      <td>7.8</td>\n",
       "      <td>264</td>\n",
       "      <td>rice</td>\n",
       "    </tr>\n",
       "    <tr>\n",
       "      <th>3</th>\n",
       "      <td>74</td>\n",
       "      <td>35</td>\n",
       "      <td>40</td>\n",
       "      <td>26</td>\n",
       "      <td>80</td>\n",
       "      <td>7.0</td>\n",
       "      <td>243</td>\n",
       "      <td>rice</td>\n",
       "    </tr>\n",
       "    <tr>\n",
       "      <th>4</th>\n",
       "      <td>78</td>\n",
       "      <td>42</td>\n",
       "      <td>42</td>\n",
       "      <td>20</td>\n",
       "      <td>82</td>\n",
       "      <td>7.6</td>\n",
       "      <td>263</td>\n",
       "      <td>rice</td>\n",
       "    </tr>\n",
       "  </tbody>\n",
       "</table>\n",
       "</div>"
      ],
      "text/plain": [
       "   NITROGEN  PHOSPHORUS  POTASSIUM  TEMPERATURE  HUMIDITY   PH  RAINFALL  CROP\n",
       "0        90          42         43           21        82  6.5       203  rice\n",
       "1        85          58         41           22        80  7.0       227  rice\n",
       "2        60          55         44           23        82  7.8       264  rice\n",
       "3        74          35         40           26        80  7.0       243  rice\n",
       "4        78          42         42           20        82  7.6       263  rice"
      ]
     },
     "execution_count": 43,
     "metadata": {},
     "output_type": "execute_result"
    }
   ],
   "source": [
    "#displaying data\n",
    "df.head()"
   ]
  },
  {
   "cell_type": "code",
   "execution_count": 44,
   "id": "b565c133",
   "metadata": {},
   "outputs": [
    {
     "data": {
      "text/plain": [
       "NITROGEN       0\n",
       "PHOSPHORUS     0\n",
       "POTASSIUM      0\n",
       "TEMPERATURE    0\n",
       "HUMIDITY       0\n",
       "PH             0\n",
       "RAINFALL       0\n",
       "CROP           0\n",
       "dtype: int64"
      ]
     },
     "execution_count": 44,
     "metadata": {},
     "output_type": "execute_result"
    }
   ],
   "source": [
    "df.isnull().sum()"
   ]
  },
  {
   "cell_type": "code",
   "execution_count": 45,
   "id": "d5b75a03",
   "metadata": {},
   "outputs": [
    {
     "data": {
      "text/plain": [
       "array([[90, 42, 43, ..., 6.5, 203, 'rice'],\n",
       "       [85, 58, 41, ..., 7.0, 227, 'rice'],\n",
       "       [60, 55, 44, ..., 7.8, 264, 'rice'],\n",
       "       ...,\n",
       "       [118, 33, 30, ..., 6.4, 173, 'coffee'],\n",
       "       [117, 32, 34, ..., 6.8, 127, 'coffee'],\n",
       "       [104, 18, 30, ..., 6.8, 141, 'coffee']], dtype=object)"
      ]
     },
     "execution_count": 45,
     "metadata": {},
     "output_type": "execute_result"
    }
   ],
   "source": [
    "df.values"
   ]
  },
  {
   "cell_type": "code",
   "execution_count": 46,
   "id": "2eced82c",
   "metadata": {},
   "outputs": [
    {
     "data": {
      "text/html": [
       "<div>\n",
       "<style scoped>\n",
       "    .dataframe tbody tr th:only-of-type {\n",
       "        vertical-align: middle;\n",
       "    }\n",
       "\n",
       "    .dataframe tbody tr th {\n",
       "        vertical-align: top;\n",
       "    }\n",
       "\n",
       "    .dataframe thead th {\n",
       "        text-align: right;\n",
       "    }\n",
       "</style>\n",
       "<table border=\"1\" class=\"dataframe\">\n",
       "  <thead>\n",
       "    <tr style=\"text-align: right;\">\n",
       "      <th></th>\n",
       "      <th>NITROGEN</th>\n",
       "      <th>PHOSPHORUS</th>\n",
       "      <th>POTASSIUM</th>\n",
       "      <th>TEMPERATURE</th>\n",
       "      <th>HUMIDITY</th>\n",
       "      <th>PH</th>\n",
       "      <th>RAINFALL</th>\n",
       "      <th>CROP</th>\n",
       "    </tr>\n",
       "  </thead>\n",
       "  <tbody>\n",
       "    <tr>\n",
       "      <th>0</th>\n",
       "      <td>90</td>\n",
       "      <td>42</td>\n",
       "      <td>43</td>\n",
       "      <td>21</td>\n",
       "      <td>82</td>\n",
       "      <td>6.5</td>\n",
       "      <td>203</td>\n",
       "      <td>rice</td>\n",
       "    </tr>\n",
       "    <tr>\n",
       "      <th>1</th>\n",
       "      <td>85</td>\n",
       "      <td>58</td>\n",
       "      <td>41</td>\n",
       "      <td>22</td>\n",
       "      <td>80</td>\n",
       "      <td>7.0</td>\n",
       "      <td>227</td>\n",
       "      <td>rice</td>\n",
       "    </tr>\n",
       "    <tr>\n",
       "      <th>2</th>\n",
       "      <td>60</td>\n",
       "      <td>55</td>\n",
       "      <td>44</td>\n",
       "      <td>23</td>\n",
       "      <td>82</td>\n",
       "      <td>7.8</td>\n",
       "      <td>264</td>\n",
       "      <td>rice</td>\n",
       "    </tr>\n",
       "    <tr>\n",
       "      <th>3</th>\n",
       "      <td>74</td>\n",
       "      <td>35</td>\n",
       "      <td>40</td>\n",
       "      <td>26</td>\n",
       "      <td>80</td>\n",
       "      <td>7.0</td>\n",
       "      <td>243</td>\n",
       "      <td>rice</td>\n",
       "    </tr>\n",
       "    <tr>\n",
       "      <th>4</th>\n",
       "      <td>78</td>\n",
       "      <td>42</td>\n",
       "      <td>42</td>\n",
       "      <td>20</td>\n",
       "      <td>82</td>\n",
       "      <td>7.6</td>\n",
       "      <td>263</td>\n",
       "      <td>rice</td>\n",
       "    </tr>\n",
       "    <tr>\n",
       "      <th>...</th>\n",
       "      <td>...</td>\n",
       "      <td>...</td>\n",
       "      <td>...</td>\n",
       "      <td>...</td>\n",
       "      <td>...</td>\n",
       "      <td>...</td>\n",
       "      <td>...</td>\n",
       "      <td>...</td>\n",
       "    </tr>\n",
       "    <tr>\n",
       "      <th>2195</th>\n",
       "      <td>107</td>\n",
       "      <td>34</td>\n",
       "      <td>32</td>\n",
       "      <td>27</td>\n",
       "      <td>66</td>\n",
       "      <td>6.8</td>\n",
       "      <td>178</td>\n",
       "      <td>coffee</td>\n",
       "    </tr>\n",
       "    <tr>\n",
       "      <th>2196</th>\n",
       "      <td>99</td>\n",
       "      <td>15</td>\n",
       "      <td>27</td>\n",
       "      <td>27</td>\n",
       "      <td>57</td>\n",
       "      <td>6.1</td>\n",
       "      <td>128</td>\n",
       "      <td>coffee</td>\n",
       "    </tr>\n",
       "    <tr>\n",
       "      <th>2197</th>\n",
       "      <td>118</td>\n",
       "      <td>33</td>\n",
       "      <td>30</td>\n",
       "      <td>24</td>\n",
       "      <td>67</td>\n",
       "      <td>6.4</td>\n",
       "      <td>173</td>\n",
       "      <td>coffee</td>\n",
       "    </tr>\n",
       "    <tr>\n",
       "      <th>2198</th>\n",
       "      <td>117</td>\n",
       "      <td>32</td>\n",
       "      <td>34</td>\n",
       "      <td>26</td>\n",
       "      <td>52</td>\n",
       "      <td>6.8</td>\n",
       "      <td>127</td>\n",
       "      <td>coffee</td>\n",
       "    </tr>\n",
       "    <tr>\n",
       "      <th>2199</th>\n",
       "      <td>104</td>\n",
       "      <td>18</td>\n",
       "      <td>30</td>\n",
       "      <td>24</td>\n",
       "      <td>60</td>\n",
       "      <td>6.8</td>\n",
       "      <td>141</td>\n",
       "      <td>coffee</td>\n",
       "    </tr>\n",
       "  </tbody>\n",
       "</table>\n",
       "<p>2200 rows × 8 columns</p>\n",
       "</div>"
      ],
      "text/plain": [
       "      NITROGEN  PHOSPHORUS  POTASSIUM  TEMPERATURE  HUMIDITY   PH  RAINFALL  \\\n",
       "0           90          42         43           21        82  6.5       203   \n",
       "1           85          58         41           22        80  7.0       227   \n",
       "2           60          55         44           23        82  7.8       264   \n",
       "3           74          35         40           26        80  7.0       243   \n",
       "4           78          42         42           20        82  7.6       263   \n",
       "...        ...         ...        ...          ...       ...  ...       ...   \n",
       "2195       107          34         32           27        66  6.8       178   \n",
       "2196        99          15         27           27        57  6.1       128   \n",
       "2197       118          33         30           24        67  6.4       173   \n",
       "2198       117          32         34           26        52  6.8       127   \n",
       "2199       104          18         30           24        60  6.8       141   \n",
       "\n",
       "        CROP  \n",
       "0       rice  \n",
       "1       rice  \n",
       "2       rice  \n",
       "3       rice  \n",
       "4       rice  \n",
       "...      ...  \n",
       "2195  coffee  \n",
       "2196  coffee  \n",
       "2197  coffee  \n",
       "2198  coffee  \n",
       "2199  coffee  \n",
       "\n",
       "[2200 rows x 8 columns]"
      ]
     },
     "execution_count": 46,
     "metadata": {},
     "output_type": "execute_result"
    }
   ],
   "source": [
    "df.dropna(axis=0)"
   ]
  },
  {
   "cell_type": "code",
   "execution_count": 47,
   "id": "9a6253cd",
   "metadata": {},
   "outputs": [
    {
     "data": {
      "text/plain": [
       "<bound method DataFrame.info of       NITROGEN  PHOSPHORUS  POTASSIUM  TEMPERATURE  HUMIDITY   PH  RAINFALL  \\\n",
       "0           90          42         43           21        82  6.5       203   \n",
       "1           85          58         41           22        80  7.0       227   \n",
       "2           60          55         44           23        82  7.8       264   \n",
       "3           74          35         40           26        80  7.0       243   \n",
       "4           78          42         42           20        82  7.6       263   \n",
       "...        ...         ...        ...          ...       ...  ...       ...   \n",
       "2195       107          34         32           27        66  6.8       178   \n",
       "2196        99          15         27           27        57  6.1       128   \n",
       "2197       118          33         30           24        67  6.4       173   \n",
       "2198       117          32         34           26        52  6.8       127   \n",
       "2199       104          18         30           24        60  6.8       141   \n",
       "\n",
       "        CROP  \n",
       "0       rice  \n",
       "1       rice  \n",
       "2       rice  \n",
       "3       rice  \n",
       "4       rice  \n",
       "...      ...  \n",
       "2195  coffee  \n",
       "2196  coffee  \n",
       "2197  coffee  \n",
       "2198  coffee  \n",
       "2199  coffee  \n",
       "\n",
       "[2200 rows x 8 columns]>"
      ]
     },
     "execution_count": 47,
     "metadata": {},
     "output_type": "execute_result"
    }
   ],
   "source": [
    "df.info"
   ]
  },
  {
   "cell_type": "code",
   "execution_count": 48,
   "id": "79fc65e4",
   "metadata": {},
   "outputs": [
    {
     "data": {
      "text/plain": [
       "(2200, 8)"
      ]
     },
     "execution_count": 48,
     "metadata": {},
     "output_type": "execute_result"
    }
   ],
   "source": [
    "df.shape"
   ]
  },
  {
   "cell_type": "code",
   "execution_count": 49,
   "id": "7334e3da",
   "metadata": {},
   "outputs": [
    {
     "data": {
      "text/plain": [
       "0"
      ]
     },
     "execution_count": 49,
     "metadata": {},
     "output_type": "execute_result"
    }
   ],
   "source": [
    "df.duplicated().sum()"
   ]
  },
  {
   "cell_type": "code",
   "execution_count": 50,
   "id": "59fbd18b",
   "metadata": {},
   "outputs": [
    {
     "data": {
      "text/html": [
       "<div>\n",
       "<style scoped>\n",
       "    .dataframe tbody tr th:only-of-type {\n",
       "        vertical-align: middle;\n",
       "    }\n",
       "\n",
       "    .dataframe tbody tr th {\n",
       "        vertical-align: top;\n",
       "    }\n",
       "\n",
       "    .dataframe thead th {\n",
       "        text-align: right;\n",
       "    }\n",
       "</style>\n",
       "<table border=\"1\" class=\"dataframe\">\n",
       "  <thead>\n",
       "    <tr style=\"text-align: right;\">\n",
       "      <th></th>\n",
       "      <th>NITROGEN</th>\n",
       "      <th>PHOSPHORUS</th>\n",
       "      <th>POTASSIUM</th>\n",
       "      <th>TEMPERATURE</th>\n",
       "      <th>HUMIDITY</th>\n",
       "      <th>PH</th>\n",
       "      <th>RAINFALL</th>\n",
       "    </tr>\n",
       "  </thead>\n",
       "  <tbody>\n",
       "    <tr>\n",
       "      <th>count</th>\n",
       "      <td>2200.000000</td>\n",
       "      <td>2200.000000</td>\n",
       "      <td>2200.000000</td>\n",
       "      <td>2200.000000</td>\n",
       "      <td>2200.000000</td>\n",
       "      <td>2200.000000</td>\n",
       "      <td>2200.000000</td>\n",
       "    </tr>\n",
       "    <tr>\n",
       "      <th>mean</th>\n",
       "      <td>50.551818</td>\n",
       "      <td>53.362727</td>\n",
       "      <td>48.149091</td>\n",
       "      <td>25.613182</td>\n",
       "      <td>71.482727</td>\n",
       "      <td>6.470045</td>\n",
       "      <td>103.458182</td>\n",
       "    </tr>\n",
       "    <tr>\n",
       "      <th>std</th>\n",
       "      <td>36.917334</td>\n",
       "      <td>32.985883</td>\n",
       "      <td>50.647931</td>\n",
       "      <td>5.080069</td>\n",
       "      <td>22.273052</td>\n",
       "      <td>0.774830</td>\n",
       "      <td>54.964423</td>\n",
       "    </tr>\n",
       "    <tr>\n",
       "      <th>min</th>\n",
       "      <td>0.000000</td>\n",
       "      <td>5.000000</td>\n",
       "      <td>5.000000</td>\n",
       "      <td>9.000000</td>\n",
       "      <td>14.000000</td>\n",
       "      <td>3.500000</td>\n",
       "      <td>20.000000</td>\n",
       "    </tr>\n",
       "    <tr>\n",
       "      <th>25%</th>\n",
       "      <td>21.000000</td>\n",
       "      <td>28.000000</td>\n",
       "      <td>20.000000</td>\n",
       "      <td>23.000000</td>\n",
       "      <td>60.000000</td>\n",
       "      <td>6.000000</td>\n",
       "      <td>65.000000</td>\n",
       "    </tr>\n",
       "    <tr>\n",
       "      <th>50%</th>\n",
       "      <td>37.000000</td>\n",
       "      <td>51.000000</td>\n",
       "      <td>32.000000</td>\n",
       "      <td>26.000000</td>\n",
       "      <td>80.000000</td>\n",
       "      <td>6.400000</td>\n",
       "      <td>95.000000</td>\n",
       "    </tr>\n",
       "    <tr>\n",
       "      <th>75%</th>\n",
       "      <td>84.250000</td>\n",
       "      <td>68.000000</td>\n",
       "      <td>49.000000</td>\n",
       "      <td>29.000000</td>\n",
       "      <td>90.000000</td>\n",
       "      <td>6.900000</td>\n",
       "      <td>124.000000</td>\n",
       "    </tr>\n",
       "    <tr>\n",
       "      <th>max</th>\n",
       "      <td>140.000000</td>\n",
       "      <td>145.000000</td>\n",
       "      <td>205.000000</td>\n",
       "      <td>44.000000</td>\n",
       "      <td>100.000000</td>\n",
       "      <td>9.900000</td>\n",
       "      <td>299.000000</td>\n",
       "    </tr>\n",
       "  </tbody>\n",
       "</table>\n",
       "</div>"
      ],
      "text/plain": [
       "          NITROGEN   PHOSPHORUS    POTASSIUM  TEMPERATURE     HUMIDITY  \\\n",
       "count  2200.000000  2200.000000  2200.000000  2200.000000  2200.000000   \n",
       "mean     50.551818    53.362727    48.149091    25.613182    71.482727   \n",
       "std      36.917334    32.985883    50.647931     5.080069    22.273052   \n",
       "min       0.000000     5.000000     5.000000     9.000000    14.000000   \n",
       "25%      21.000000    28.000000    20.000000    23.000000    60.000000   \n",
       "50%      37.000000    51.000000    32.000000    26.000000    80.000000   \n",
       "75%      84.250000    68.000000    49.000000    29.000000    90.000000   \n",
       "max     140.000000   145.000000   205.000000    44.000000   100.000000   \n",
       "\n",
       "                PH     RAINFALL  \n",
       "count  2200.000000  2200.000000  \n",
       "mean      6.470045   103.458182  \n",
       "std       0.774830    54.964423  \n",
       "min       3.500000    20.000000  \n",
       "25%       6.000000    65.000000  \n",
       "50%       6.400000    95.000000  \n",
       "75%       6.900000   124.000000  \n",
       "max       9.900000   299.000000  "
      ]
     },
     "execution_count": 50,
     "metadata": {},
     "output_type": "execute_result"
    }
   ],
   "source": [
    "df.describe()"
   ]
  },
  {
   "cell_type": "code",
   "execution_count": 51,
   "id": "f40ddafd",
   "metadata": {},
   "outputs": [
    {
     "data": {
      "text/html": [
       "<div>\n",
       "<style scoped>\n",
       "    .dataframe tbody tr th:only-of-type {\n",
       "        vertical-align: middle;\n",
       "    }\n",
       "\n",
       "    .dataframe tbody tr th {\n",
       "        vertical-align: top;\n",
       "    }\n",
       "\n",
       "    .dataframe thead th {\n",
       "        text-align: right;\n",
       "    }\n",
       "</style>\n",
       "<table border=\"1\" class=\"dataframe\">\n",
       "  <thead>\n",
       "    <tr style=\"text-align: right;\">\n",
       "      <th></th>\n",
       "      <th>NITROGEN</th>\n",
       "      <th>PHOSPHORUS</th>\n",
       "      <th>POTASSIUM</th>\n",
       "      <th>TEMPERATURE</th>\n",
       "      <th>HUMIDITY</th>\n",
       "      <th>PH</th>\n",
       "      <th>RAINFALL</th>\n",
       "    </tr>\n",
       "  </thead>\n",
       "  <tbody>\n",
       "    <tr>\n",
       "      <th>NITROGEN</th>\n",
       "      <td>1.000000</td>\n",
       "      <td>-0.231460</td>\n",
       "      <td>-0.140512</td>\n",
       "      <td>0.026165</td>\n",
       "      <td>0.190674</td>\n",
       "      <td>0.096390</td>\n",
       "      <td>0.058973</td>\n",
       "    </tr>\n",
       "    <tr>\n",
       "      <th>PHOSPHORUS</th>\n",
       "      <td>-0.231460</td>\n",
       "      <td>1.000000</td>\n",
       "      <td>0.736232</td>\n",
       "      <td>-0.128844</td>\n",
       "      <td>-0.118273</td>\n",
       "      <td>-0.138316</td>\n",
       "      <td>-0.063725</td>\n",
       "    </tr>\n",
       "    <tr>\n",
       "      <th>POTASSIUM</th>\n",
       "      <td>-0.140512</td>\n",
       "      <td>0.736232</td>\n",
       "      <td>1.000000</td>\n",
       "      <td>-0.161176</td>\n",
       "      <td>0.191277</td>\n",
       "      <td>-0.169293</td>\n",
       "      <td>-0.053250</td>\n",
       "    </tr>\n",
       "    <tr>\n",
       "      <th>TEMPERATURE</th>\n",
       "      <td>0.026165</td>\n",
       "      <td>-0.128844</td>\n",
       "      <td>-0.161176</td>\n",
       "      <td>1.000000</td>\n",
       "      <td>0.206334</td>\n",
       "      <td>-0.018160</td>\n",
       "      <td>-0.029112</td>\n",
       "    </tr>\n",
       "    <tr>\n",
       "      <th>HUMIDITY</th>\n",
       "      <td>0.190674</td>\n",
       "      <td>-0.118273</td>\n",
       "      <td>0.191277</td>\n",
       "      <td>0.206334</td>\n",
       "      <td>1.000000</td>\n",
       "      <td>-0.008384</td>\n",
       "      <td>0.093759</td>\n",
       "    </tr>\n",
       "    <tr>\n",
       "      <th>PH</th>\n",
       "      <td>0.096390</td>\n",
       "      <td>-0.138316</td>\n",
       "      <td>-0.169293</td>\n",
       "      <td>-0.018160</td>\n",
       "      <td>-0.008384</td>\n",
       "      <td>1.000000</td>\n",
       "      <td>-0.109205</td>\n",
       "    </tr>\n",
       "    <tr>\n",
       "      <th>RAINFALL</th>\n",
       "      <td>0.058973</td>\n",
       "      <td>-0.063725</td>\n",
       "      <td>-0.053250</td>\n",
       "      <td>-0.029112</td>\n",
       "      <td>0.093759</td>\n",
       "      <td>-0.109205</td>\n",
       "      <td>1.000000</td>\n",
       "    </tr>\n",
       "  </tbody>\n",
       "</table>\n",
       "</div>"
      ],
      "text/plain": [
       "             NITROGEN  PHOSPHORUS  POTASSIUM  TEMPERATURE  HUMIDITY        PH  \\\n",
       "NITROGEN     1.000000   -0.231460  -0.140512     0.026165  0.190674  0.096390   \n",
       "PHOSPHORUS  -0.231460    1.000000   0.736232    -0.128844 -0.118273 -0.138316   \n",
       "POTASSIUM   -0.140512    0.736232   1.000000    -0.161176  0.191277 -0.169293   \n",
       "TEMPERATURE  0.026165   -0.128844  -0.161176     1.000000  0.206334 -0.018160   \n",
       "HUMIDITY     0.190674   -0.118273   0.191277     0.206334  1.000000 -0.008384   \n",
       "PH           0.096390   -0.138316  -0.169293    -0.018160 -0.008384  1.000000   \n",
       "RAINFALL     0.058973   -0.063725  -0.053250    -0.029112  0.093759 -0.109205   \n",
       "\n",
       "             RAINFALL  \n",
       "NITROGEN     0.058973  \n",
       "PHOSPHORUS  -0.063725  \n",
       "POTASSIUM   -0.053250  \n",
       "TEMPERATURE -0.029112  \n",
       "HUMIDITY     0.093759  \n",
       "PH          -0.109205  \n",
       "RAINFALL     1.000000  "
      ]
     },
     "execution_count": 51,
     "metadata": {},
     "output_type": "execute_result"
    }
   ],
   "source": [
    "cor= df.corr()\n",
    "cor"
   ]
  },
  {
   "cell_type": "code",
   "execution_count": 52,
   "id": "9fb8e09a",
   "metadata": {},
   "outputs": [
    {
     "data": {
      "text/plain": [
       "<AxesSubplot:>"
      ]
     },
     "execution_count": 52,
     "metadata": {},
     "output_type": "execute_result"
    },
    {
     "data": {
      "image/png": "[encoded data removed]",
      "text/plain": [
       "<Figure size 640x480 with 2 Axes>"
      ]
     },
     "metadata": {},
     "output_type": "display_data"
    }
   ],
   "source": [
    "sns.heatmap(cor,annot=True,cbar= True)"
   ]
  },
  {
   "cell_type": "code",
   "execution_count": 53,
   "id": "74259032",
   "metadata": {},
   "outputs": [
    {
     "data": {
      "text/plain": [
       "rice           100\n",
       "maize          100\n",
       "jute           100\n",
       "cotton         100\n",
       "coconut        100\n",
       "papaya         100\n",
       "orange         100\n",
       "apple          100\n",
       "muskmelon      100\n",
       "watermelon     100\n",
       "grapes         100\n",
       "mango          100\n",
       "banana         100\n",
       "pomegranate    100\n",
       "lentil         100\n",
       "blackgram      100\n",
       "mungbean       100\n",
       "mothbeans      100\n",
       "pigeonpeas     100\n",
       "kidneybeans    100\n",
       "chickpea       100\n",
       "coffee         100\n",
       "Name: CROP, dtype: int64"
      ]
     },
     "execution_count": 53,
     "metadata": {},
     "output_type": "execute_result"
    }
   ],
   "source": [
    "df['CROP'].value_counts()"
   ]
  },
  {
   "cell_type": "code",
   "execution_count": 54,
   "id": "9c45b701",
   "metadata": {},
   "outputs": [],
   "source": [
    "df_dict={\n",
    "'rice':        0,\n",
    "'maize':          1,\n",
    "'jute':           2,\n",
    "'cotton':         3,\n",
    "'coconut':        4,\n",
    "'papaya':         5,\n",
    "'orange':         6,\n",
    "'apple':          7,\n",
    "'muskmelon':      8,\n",
    "'watermelon':     9,\n",
    "'grapes':         10,\n",
    "'mango':          11,\n",
    "'banana':         12,\n",
    "'pomegranate':    13,\n",
    "'lentil':         14,\n",
    "'blackgram':      15,\n",
    "'mungbean':       16,\n",
    "'mothbeans':      17,\n",
    "'pigeonpeas':     18,\n",
    "'kidneybeans':    19,\n",
    "'chickpea':       20,\n",
    "'coffee':         21\n",
    "}\n",
    "df['crop']=df['CROP'].map(df_dict)"
   ]
  },
  {
   "cell_type": "code",
   "execution_count": 55,
   "id": "99fc460a",
   "metadata": {},
   "outputs": [
    {
     "data": {
      "text/plain": [
       "0     100\n",
       "1     100\n",
       "2     100\n",
       "3     100\n",
       "4     100\n",
       "5     100\n",
       "6     100\n",
       "7     100\n",
       "8     100\n",
       "9     100\n",
       "10    100\n",
       "11    100\n",
       "12    100\n",
       "13    100\n",
       "14    100\n",
       "15    100\n",
       "16    100\n",
       "17    100\n",
       "18    100\n",
       "19    100\n",
       "20    100\n",
       "21    100\n",
       "Name: crop, dtype: int64"
      ]
     },
     "execution_count": 55,
     "metadata": {},
     "output_type": "execute_result"
    }
   ],
   "source": [
    "df.drop(['CROP'],axis=1,inplace=True)\n",
    "df['crop'].value_counts()"
   ]
  },
  {
   "cell_type": "code",
   "execution_count": 56,
   "id": "e0bdbd4c",
   "metadata": {},
   "outputs": [],
   "source": [
    "x=df.drop('crop',axis=1)\n",
    "y=df['crop']"
   ]
  },
  {
   "cell_type": "code",
   "execution_count": 57,
   "id": "83029bac",
   "metadata": {},
   "outputs": [
    {
     "data": {
      "text/plain": [
       "(2200, 7)"
      ]
     },
     "execution_count": 57,
     "metadata": {},
     "output_type": "execute_result"
    }
   ],
   "source": [
    "x.shape"
   ]
  },
  {
   "cell_type": "code",
   "execution_count": 58,
   "id": "161bf371",
   "metadata": {},
   "outputs": [
    {
     "data": {
      "text/plain": [
       "(2200,)"
      ]
     },
     "execution_count": 58,
     "metadata": {},
     "output_type": "execute_result"
    }
   ],
   "source": [
    "y.shape"
   ]
  },
  {
   "cell_type": "code",
   "execution_count": 59,
   "id": "22701685",
   "metadata": {},
   "outputs": [
    {
     "data": {
      "text/html": [
       "<div>\n",
       "<style scoped>\n",
       "    .dataframe tbody tr th:only-of-type {\n",
       "        vertical-align: middle;\n",
       "    }\n",
       "\n",
       "    .dataframe tbody tr th {\n",
       "        vertical-align: top;\n",
       "    }\n",
       "\n",
       "    .dataframe thead th {\n",
       "        text-align: right;\n",
       "    }\n",
       "</style>\n",
       "<table border=\"1\" class=\"dataframe\">\n",
       "  <thead>\n",
       "    <tr style=\"text-align: right;\">\n",
       "      <th></th>\n",
       "      <th>NITROGEN</th>\n",
       "      <th>PHOSPHORUS</th>\n",
       "      <th>POTASSIUM</th>\n",
       "      <th>TEMPERATURE</th>\n",
       "      <th>HUMIDITY</th>\n",
       "      <th>PH</th>\n",
       "      <th>RAINFALL</th>\n",
       "      <th>crop</th>\n",
       "    </tr>\n",
       "  </thead>\n",
       "  <tbody>\n",
       "    <tr>\n",
       "      <th>0</th>\n",
       "      <td>90</td>\n",
       "      <td>42</td>\n",
       "      <td>43</td>\n",
       "      <td>21</td>\n",
       "      <td>82</td>\n",
       "      <td>6.5</td>\n",
       "      <td>203</td>\n",
       "      <td>0</td>\n",
       "    </tr>\n",
       "    <tr>\n",
       "      <th>1</th>\n",
       "      <td>85</td>\n",
       "      <td>58</td>\n",
       "      <td>41</td>\n",
       "      <td>22</td>\n",
       "      <td>80</td>\n",
       "      <td>7.0</td>\n",
       "      <td>227</td>\n",
       "      <td>0</td>\n",
       "    </tr>\n",
       "    <tr>\n",
       "      <th>2</th>\n",
       "      <td>60</td>\n",
       "      <td>55</td>\n",
       "      <td>44</td>\n",
       "      <td>23</td>\n",
       "      <td>82</td>\n",
       "      <td>7.8</td>\n",
       "      <td>264</td>\n",
       "      <td>0</td>\n",
       "    </tr>\n",
       "    <tr>\n",
       "      <th>3</th>\n",
       "      <td>74</td>\n",
       "      <td>35</td>\n",
       "      <td>40</td>\n",
       "      <td>26</td>\n",
       "      <td>80</td>\n",
       "      <td>7.0</td>\n",
       "      <td>243</td>\n",
       "      <td>0</td>\n",
       "    </tr>\n",
       "    <tr>\n",
       "      <th>4</th>\n",
       "      <td>78</td>\n",
       "      <td>42</td>\n",
       "      <td>42</td>\n",
       "      <td>20</td>\n",
       "      <td>82</td>\n",
       "      <td>7.6</td>\n",
       "      <td>263</td>\n",
       "      <td>0</td>\n",
       "    </tr>\n",
       "  </tbody>\n",
       "</table>\n",
       "</div>"
      ],
      "text/plain": [
       "   NITROGEN  PHOSPHORUS  POTASSIUM  TEMPERATURE  HUMIDITY   PH  RAINFALL  crop\n",
       "0        90          42         43           21        82  6.5       203     0\n",
       "1        85          58         41           22        80  7.0       227     0\n",
       "2        60          55         44           23        82  7.8       264     0\n",
       "3        74          35         40           26        80  7.0       243     0\n",
       "4        78          42         42           20        82  7.6       263     0"
      ]
     },
     "execution_count": 59,
     "metadata": {},
     "output_type": "execute_result"
    }
   ],
   "source": [
    "df.head()"
   ]
  },
  {
   "cell_type": "code",
   "execution_count": null,
   "id": "52c41e6e",
   "metadata": {},
   "outputs": [],
   "source": []
  },
  {
   "cell_type": "code",
   "execution_count": null,
   "id": "04bf3229",
   "metadata": {},
   "outputs": [],
   "source": []
  },
  {
   "cell_type": "code",
   "execution_count": null,
   "id": "6823d86b",
   "metadata": {},
   "outputs": [],
   "source": []
  },
  {
   "cell_type": "code",
   "execution_count": null,
   "id": "6a6fffc1",
   "metadata": {},
   "outputs": [],
   "source": []
  },
  {
   "cell_type": "code",
   "execution_count": 60,
   "id": "97ff4380",
   "metadata": {},
   "outputs": [],
   "source": [
    "x_train,x_test,y_train,y_test= train_test_split(x,y,test_size=0.2, random_state=42)"
   ]
  },
  {
   "cell_type": "code",
   "execution_count": 61,
   "id": "bd192355",
   "metadata": {},
   "outputs": [
    {
     "name": "stdout",
     "output_type": "stream",
     "text": [
      "Accuracy: 98.41%\n"
     ]
    }
   ],
   "source": [
    "model = XGBClassifier()\n",
    "model.fit(x_train, y_train)\n",
    "pred = model.predict(x_test)\n",
    "\n",
    "# Calculate the accuracy of the model\n",
    "accuracy = accuracy_score(y_test, pred)\n",
    "print('Accuracy: %.2f%%' % (accuracy * 100.0))"
   ]
  },
  {
   "cell_type": "code",
   "execution_count": null,
   "id": "4e474df4",
   "metadata": {},
   "outputs": [],
   "source": []
  },
  {
   "cell_type": "code",
   "execution_count": 62,
   "id": "168aa29b",
   "metadata": {},
   "outputs": [],
   "source": [
    "# from sklearn.preprocessing import MinMaxScaler\n",
    "# ms= MinMaxScaler()\n",
    "\n",
    "# ms.fit(x_train,y_train)\n",
    "# x_train = ms.transform(x_train)\n",
    "# x_test = ms.transform(x_test)"
   ]
  },
  {
   "cell_type": "code",
   "execution_count": 63,
   "id": "27083efa",
   "metadata": {},
   "outputs": [
    {
     "data": {
      "text/plain": [
       "(1760, 7)"
      ]
     },
     "execution_count": 63,
     "metadata": {},
     "output_type": "execute_result"
    }
   ],
   "source": [
    "x_train.shape"
   ]
  },
  {
   "cell_type": "code",
   "execution_count": 64,
   "id": "2e773d14",
   "metadata": {},
   "outputs": [
    {
     "data": {
      "text/plain": [
       "(440, 7)"
      ]
     },
     "execution_count": 64,
     "metadata": {},
     "output_type": "execute_result"
    }
   ],
   "source": [
    "x_test.shape"
   ]
  },
  {
   "cell_type": "code",
   "execution_count": 65,
   "id": "11778ec0",
   "metadata": {},
   "outputs": [
    {
     "data": {
      "text/plain": [
       "(1760,)"
      ]
     },
     "execution_count": 65,
     "metadata": {},
     "output_type": "execute_result"
    }
   ],
   "source": [
    "y_train.shape"
   ]
  },
  {
   "cell_type": "code",
   "execution_count": 66,
   "id": "62912669",
   "metadata": {},
   "outputs": [
    {
     "data": {
      "text/plain": [
       "(440,)"
      ]
     },
     "execution_count": 66,
     "metadata": {},
     "output_type": "execute_result"
    }
   ],
   "source": [
    "y_test.shape"
   ]
  },
  {
   "cell_type": "code",
   "execution_count": 67,
   "id": "30cd618e",
   "metadata": {},
   "outputs": [],
   "source": [
    "# from sklearn.preprocessing import StandardScaler\n",
    "# sc = StandardScaler()\n",
    "\n",
    "# sc.fit(x_train)\n",
    "# x_train = sc.transform(x_train)\n",
    "# x_test = sc.transform(x_test)"
   ]
  },
  {
   "cell_type": "code",
   "execution_count": 68,
   "id": "174e3143",
   "metadata": {},
   "outputs": [
    {
     "data": {
      "text/html": [
       "<div>\n",
       "<style scoped>\n",
       "    .dataframe tbody tr th:only-of-type {\n",
       "        vertical-align: middle;\n",
       "    }\n",
       "\n",
       "    .dataframe tbody tr th {\n",
       "        vertical-align: top;\n",
       "    }\n",
       "\n",
       "    .dataframe thead th {\n",
       "        text-align: right;\n",
       "    }\n",
       "</style>\n",
       "<table border=\"1\" class=\"dataframe\">\n",
       "  <thead>\n",
       "    <tr style=\"text-align: right;\">\n",
       "      <th></th>\n",
       "      <th>NITROGEN</th>\n",
       "      <th>PHOSPHORUS</th>\n",
       "      <th>POTASSIUM</th>\n",
       "      <th>TEMPERATURE</th>\n",
       "      <th>HUMIDITY</th>\n",
       "      <th>PH</th>\n",
       "      <th>RAINFALL</th>\n",
       "    </tr>\n",
       "  </thead>\n",
       "  <tbody>\n",
       "    <tr>\n",
       "      <th>1656</th>\n",
       "      <td>17</td>\n",
       "      <td>16</td>\n",
       "      <td>14</td>\n",
       "      <td>16</td>\n",
       "      <td>92</td>\n",
       "      <td>6.6</td>\n",
       "      <td>103</td>\n",
       "    </tr>\n",
       "    <tr>\n",
       "      <th>752</th>\n",
       "      <td>37</td>\n",
       "      <td>79</td>\n",
       "      <td>19</td>\n",
       "      <td>28</td>\n",
       "      <td>69</td>\n",
       "      <td>7.1</td>\n",
       "      <td>69</td>\n",
       "    </tr>\n",
       "    <tr>\n",
       "      <th>892</th>\n",
       "      <td>7</td>\n",
       "      <td>73</td>\n",
       "      <td>25</td>\n",
       "      <td>28</td>\n",
       "      <td>63</td>\n",
       "      <td>7.3</td>\n",
       "      <td>45</td>\n",
       "    </tr>\n",
       "    <tr>\n",
       "      <th>1041</th>\n",
       "      <td>101</td>\n",
       "      <td>70</td>\n",
       "      <td>48</td>\n",
       "      <td>25</td>\n",
       "      <td>75</td>\n",
       "      <td>6.0</td>\n",
       "      <td>117</td>\n",
       "    </tr>\n",
       "    <tr>\n",
       "      <th>1179</th>\n",
       "      <td>0</td>\n",
       "      <td>17</td>\n",
       "      <td>30</td>\n",
       "      <td>35</td>\n",
       "      <td>48</td>\n",
       "      <td>6.3</td>\n",
       "      <td>98</td>\n",
       "    </tr>\n",
       "    <tr>\n",
       "      <th>...</th>\n",
       "      <td>...</td>\n",
       "      <td>...</td>\n",
       "      <td>...</td>\n",
       "      <td>...</td>\n",
       "      <td>...</td>\n",
       "      <td>...</td>\n",
       "      <td>...</td>\n",
       "    </tr>\n",
       "    <tr>\n",
       "      <th>1638</th>\n",
       "      <td>10</td>\n",
       "      <td>5</td>\n",
       "      <td>5</td>\n",
       "      <td>21</td>\n",
       "      <td>91</td>\n",
       "      <td>7.8</td>\n",
       "      <td>113</td>\n",
       "    </tr>\n",
       "    <tr>\n",
       "      <th>1095</th>\n",
       "      <td>108</td>\n",
       "      <td>94</td>\n",
       "      <td>47</td>\n",
       "      <td>27</td>\n",
       "      <td>85</td>\n",
       "      <td>6.4</td>\n",
       "      <td>91</td>\n",
       "    </tr>\n",
       "    <tr>\n",
       "      <th>1130</th>\n",
       "      <td>11</td>\n",
       "      <td>36</td>\n",
       "      <td>31</td>\n",
       "      <td>28</td>\n",
       "      <td>52</td>\n",
       "      <td>6.5</td>\n",
       "      <td>100</td>\n",
       "    </tr>\n",
       "    <tr>\n",
       "      <th>1294</th>\n",
       "      <td>11</td>\n",
       "      <td>124</td>\n",
       "      <td>204</td>\n",
       "      <td>13</td>\n",
       "      <td>80</td>\n",
       "      <td>6.4</td>\n",
       "      <td>71</td>\n",
       "    </tr>\n",
       "    <tr>\n",
       "      <th>860</th>\n",
       "      <td>32</td>\n",
       "      <td>78</td>\n",
       "      <td>22</td>\n",
       "      <td>24</td>\n",
       "      <td>62</td>\n",
       "      <td>7.0</td>\n",
       "      <td>53</td>\n",
       "    </tr>\n",
       "  </tbody>\n",
       "</table>\n",
       "<p>1760 rows × 7 columns</p>\n",
       "</div>"
      ],
      "text/plain": [
       "      NITROGEN  PHOSPHORUS  POTASSIUM  TEMPERATURE  HUMIDITY   PH  RAINFALL\n",
       "1656        17          16         14           16        92  6.6       103\n",
       "752         37          79         19           28        69  7.1        69\n",
       "892          7          73         25           28        63  7.3        45\n",
       "1041       101          70         48           25        75  6.0       117\n",
       "1179         0          17         30           35        48  6.3        98\n",
       "...        ...         ...        ...          ...       ...  ...       ...\n",
       "1638        10           5          5           21        91  7.8       113\n",
       "1095       108          94         47           27        85  6.4        91\n",
       "1130        11          36         31           28        52  6.5       100\n",
       "1294        11         124        204           13        80  6.4        71\n",
       "860         32          78         22           24        62  7.0        53\n",
       "\n",
       "[1760 rows x 7 columns]"
      ]
     },
     "execution_count": 68,
     "metadata": {},
     "output_type": "execute_result"
    }
   ],
   "source": [
    "x_train"
   ]
  },
  {
   "cell_type": "code",
   "execution_count": 69,
   "id": "15d1c0a6",
   "metadata": {},
   "outputs": [
    {
     "name": "stderr",
     "output_type": "stream",
     "text": [
      "C:\\Users\\KIIT\\anaconda3\\lib\\site-packages\\sklearn\\linear_model\\_logistic.py:814: ConvergenceWarning: lbfgs failed to converge (status=1):\n",
      "STOP: TOTAL NO. of ITERATIONS REACHED LIMIT.\n",
      "\n",
      "Increase the number of iterations (max_iter) or scale the data as shown in:\n",
      "    https://scikit-learn.org/stable/modules/preprocessing.html\n",
      "Please also refer to the documentation for alternative solver options:\n",
      "    https://scikit-learn.org/stable/modules/linear_model.html#logistic-regression\n",
      "  n_iter_i = _check_optimize_result(\n",
      "C:\\Users\\KIIT\\anaconda3\\lib\\site-packages\\sklearn\\neighbors\\_classification.py:228: FutureWarning: Unlike other reduction functions (e.g. `skew`, `kurtosis`), the default behavior of `mode` typically preserves the axis it acts along. In SciPy 1.11.0, this behavior will change: the default value of `keepdims` will become False, the `axis` over which the statistic is taken will be eliminated, and the value None will no longer be accepted. Set `keepdims` to True or False to avoid this warning.\n",
      "  mode, _ = stats.mode(_y[neigh_ind, k], axis=1)\n"
     ]
    },
    {
     "name": "stdout",
     "output_type": "stream",
     "text": [
      "Logistic Regression with accuracy : 0.9431818181818182\n",
      "Naive Bayes with accuracy : 0.9954545454545455\n",
      "Support VectorMachine with accuracy : 0.9613636363636363\n",
      "K-Nearest Neighbors with accuracy : 0.9727272727272728\n",
      "Decision Tree with accuracy : 0.9840909090909091\n",
      "Random Forest with accuracy : 0.990909090909091\n"
     ]
    }
   ],
   "source": [
    "#creating instances of all models\n",
    "models = {\n",
    "    'Logistic Regression': LogisticRegression(),\n",
    "    'Naive Bayes': GaussianNB(),\n",
    "    'Support VectorMachine': SVC(),\n",
    "    'K-Nearest Neighbors': KNeighborsClassifier(),\n",
    "    'Decision Tree': DecisionTreeClassifier(),\n",
    "    'Random Forest': RandomForestClassifier()\n",
    "}\n",
    "\n",
    "for name, md in models.items():\n",
    "    md.fit(x_train,y_train)\n",
    "    y_pred= md.predict(x_test)\n",
    "    \n",
    "    print(f\"{name} with accuracy : {accuracy_score(y_test,y_pred)}\")"
   ]
  },
  {
   "cell_type": "code",
   "execution_count": 70,
   "id": "734ca0fb",
   "metadata": {},
   "outputs": [],
   "source": [
    "# #Choosing Random Forest Classifier\n",
    "# rf= GaussianNB()\n",
    "# rf.fit(x_train,y_train)\n",
    "# y_pred= rf.predict(x_test)\n",
    "# accuracy_score(y_test,y_pred)"
   ]
  },
  {
   "cell_type": "code",
   "execution_count": 71,
   "id": "a9d1bb4a",
   "metadata": {},
   "outputs": [],
   "source": [
    "def recommendation(NITROGEN,PHOSPHORUS,POTASSIUM,TEMPERATURE,HUMIDITY,PH,RAINFALL):\n",
    "    features= np.array([[NITROGEN, PHOSPHORUS, POTASSIUM, TEMPERATURE, HUMIDITY, PH, RAINFALL]])\n",
    "    prediction = model.predict(features).reshape(1,-1)\n",
    "    \n",
    "    return prediction[0]"
   ]
  },
  {
   "cell_type": "code",
   "execution_count": 74,
   "id": "e4459b71",
   "metadata": {},
   "outputs": [
    {
     "name": "stdout",
     "output_type": "stream",
     "text": [
      "maize is a best crop to be cultivated\n"
     ]
    }
   ],
   "source": [
    "NITROGEN = 68\n",
    "PHOSPHORUS = 40\n",
    "POTASSIUM = 19\n",
    "TEMPERATURE= 26\n",
    "HUMIDITY = 66\n",
    "PH= 6.7\n",
    "RAINFALL = 107\n",
    "\n",
    "predict = recommendation(NITROGEN,PHOSPHORUS,POTASSIUM,TEMPERATURE,HUMIDITY,PH,RAINFALL)\n",
    "\n",
    "\n",
    "crop_dict= {0:\"rice\",1: \"maize\",2: \"jute\",3: \"cotton\",4: \"coconut\",5: \"papaya\",6: \"orange\",7: \"apple\",8: \"muskmelon\",9: \"watermelon\",10: \"grapes\",11: \"mango\",12: \"banana\",13: \"pomegranate\",14: \"lentil\",15: \"blackgram\",16: \"mungbean\",17: \"mothbeans\",18: \"pigeonpeas\",19: \"kidneybeans\",20: \"chickpea\",21: \"coffee\"}\n",
    "\n",
    "if predict[0] in crop_dict:\n",
    "    crop = crop_dict[predict[0]]\n",
    "    print(\"{} is a best crop to be cultivated\".format(crop))\n",
    "else:\n",
    "    print(\"Sorry are not able to recommend a proper crop for this environment\")"
   ]
  },
  {
   "cell_type": "code",
   "execution_count": 75,
   "id": "b87ad0ed",
   "metadata": {},
   "outputs": [],
   "source": [
    "import pickle\n",
    "pickle.dump(rf,open('model.pkl','wb'))"
   ]
  },
  {
   "cell_type": "code",
   "execution_count": null,
   "id": "176e1e66",
   "metadata": {},
   "outputs": [],
   "source": []
  }
 ],
 "metadata": {
  "kernelspec": {
   "display_name": "Python 3 (ipykernel)",
   "language": "python",
   "name": "python3"
  },
  "language_info": {
   "codemirror_mode": {
    "name": "ipython",
    "version": 3
   },
   "file_extension": ".py",
   "mimetype": "text/x-python",
   "name": "python",
   "nbconvert_exporter": "python",
   "pygments_lexer": "ipython3",
   "version": "3.9.13"
  }
 },
 "nbformat": 4,
 "nbformat_minor": 5
}
